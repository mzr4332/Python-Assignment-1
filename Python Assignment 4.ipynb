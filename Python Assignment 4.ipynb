{
 "cells": [
  {
   "cell_type": "code",
   "execution_count": 1,
   "metadata": {},
   "outputs": [
    {
     "name": "stdout",
     "output_type": "stream",
     "text": [
      "a: 3\n",
      "b: 4\n",
      "c: 5\n"
     ]
    },
    {
     "data": {
      "text/plain": [
       "6.0"
      ]
     },
     "execution_count": 1,
     "metadata": {},
     "output_type": "execute_result"
    }
   ],
   "source": [
    "class parameters:\n",
    "    def __init__(self):\n",
    "        pass\n",
    "    def take_para(self):\n",
    "        self.a = float(input('a: '))\n",
    "        self.b = float(input('b: '))\n",
    "        self.c = float(input('c: '))\n",
    "class area(parameters):\n",
    "    def calc_area(self):\n",
    "        s = (self.a+self.b+self.c)/2\n",
    "        A = (s*(s-self.a)*(s-self.b)*(s-self.c)) ** 0.5\n",
    "        return A\n",
    "\n",
    "tri1 = parameters()\n",
    "\n",
    "tri1.take_para()\n",
    "\n",
    "area.calc_area(tri1)"
   ]
  },
  {
   "cell_type": "code",
   "execution_count": 2,
   "metadata": {},
   "outputs": [
    {
     "data": {
      "text/plain": [
       "['sudhanshu', 'Darius', 'prajal', 'Sabbar', 'Masood', 'KrishnaMurthy']"
      ]
     },
     "execution_count": 2,
     "metadata": {},
     "output_type": "execute_result"
    }
   ],
   "source": [
    "def filter_long_words(wrd_lst,n):\n",
    "    return filter(lambda wrd : len(wrd)>n,wrd_lst)\n",
    "names = ['sudhanshu','krish','pal','Darius','prajal','Zia','Mohit','Sabbar','Bilal','Yash','Masood','KrishnaMurthy']\n",
    "n = 5\n",
    "list(filter_long_words(names,n))"
   ]
  },
  {
   "cell_type": "code",
   "execution_count": 3,
   "metadata": {},
   "outputs": [
    {
     "data": {
      "text/plain": [
       "[9, 5, 3, 6, 6, 3, 5, 6, 5, 4, 6, 13]"
      ]
     },
     "execution_count": 3,
     "metadata": {},
     "output_type": "execute_result"
    }
   ],
   "source": [
    "def wrd_len(wrd_lst):\n",
    "    return list(map(lambda wrd : len(wrd),wrd_lst))\n",
    "names = ['sudhanshu','krish','pal','Darius','prajal','Zia','Mohit','Sabbar','Bilal','Yash','Masood','KrishnaMurthy']\n",
    "wrd_len(names)"
   ]
  },
  {
   "cell_type": "code",
   "execution_count": 4,
   "metadata": {},
   "outputs": [
    {
     "name": "stdout",
     "output_type": "stream",
     "text": [
      "True\n",
      "False\n",
      "True\n",
      "False\n",
      "True\n",
      "False\n"
     ]
    }
   ],
   "source": [
    "def is_vowel(letter):\n",
    "    vowels_low = ['a','e','i','o','u']\n",
    "    vowels_upp = list(map(lambda x: x.capitalize(),vowels_low))\n",
    "    return  letter in vowels_upp+vowels_low\n",
    "print(is_vowel('a'))\n",
    "print(is_vowel('c'))\n",
    "print(is_vowel('E'))\n",
    "print(is_vowel('h'))\n",
    "print(is_vowel('O'))\n",
    "print(is_vowel('Z'))"
   ]
  }
 ],
 "metadata": {
  "kernelspec": {
   "display_name": "Python 3",
   "language": "python",
   "name": "python3"
  },
  "language_info": {
   "codemirror_mode": {
    "name": "ipython",
    "version": 3
   },
   "file_extension": ".py",
   "mimetype": "text/x-python",
   "name": "python",
   "nbconvert_exporter": "python",
   "pygments_lexer": "ipython3",
   "version": "3.7.6"
  }
 },
 "nbformat": 4,
 "nbformat_minor": 4
}
