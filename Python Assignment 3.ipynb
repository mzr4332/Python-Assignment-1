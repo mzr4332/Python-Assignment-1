{
 "cells": [
  {
   "cell_type": "code",
   "execution_count": 1,
   "metadata": {},
   "outputs": [
    {
     "name": "stdout",
     "output_type": "stream",
     "text": [
      "1\n",
      "3\n",
      "17\n",
      "---------------------------------------------------------------------------\n",
      "TypeError                                 Traceback (most recent call last)\n",
      "<ipython-input-34-d38a950f9e69> in <module>\n",
      "      19 print(myreduce(lambda x,y: x+y ,[1,2,3,5,6]))\n",
      "----> 20 myreduce((lambda x,y: x+y ,[]))\n",
      "\n",
      "TypeError: myreduce() of empty sequence with no initial value\n"
     ]
    }
   ],
   "source": [
    "def myreduce(function,sequence):\n",
    "    if len(sequence)==0:\n",
    "        return ('''---------------------------------------------------------------------------\n",
    "TypeError                                 Traceback (most recent call last)\n",
    "<ipython-input-34-d38a950f9e69> in <module>\n",
    "      19 print(myreduce(lambda x,y: x+y ,[1,2,3,5,6]))\n",
    "----> 20 {}((lambda x,y: x+y ,[]))\n",
    "\n",
    "TypeError: {}() of empty sequence with no initial value'''.format('myreduce','myreduce'))\n",
    "    elif len(sequence)==1:\n",
    "        return sequence[0]\n",
    "    else:\n",
    "        x = sequence[0]\n",
    "        for i in range(1,len(sequence)):\n",
    "            x = function(x,sequence[i])\n",
    "        return x\n",
    "print(myreduce(lambda x,y: x+y ,[1]))\n",
    "print(myreduce(lambda x,y: x+y ,[1,2]))\n",
    "print(myreduce(lambda x,y: x+y ,[1,2,3,5,6]))\n",
    "print(myreduce(lambda x,y: x+y ,[]))"
   ]
  },
  {
   "cell_type": "code",
   "execution_count": 2,
   "metadata": {},
   "outputs": [
    {
     "name": "stdout",
     "output_type": "stream",
     "text": [
      "[0, 2, 4, 6, 8]\n",
      "[]\n"
     ]
    }
   ],
   "source": [
    "def myfilter(function,sequence):\n",
    "    lst = []\n",
    "    for seq in sequence:\n",
    "        if function(seq)==True:\n",
    "            lst.extend(str(seq))\n",
    "    lst = list(map(int,lst))\n",
    "    return lst\n",
    "print(myfilter(lambda x : x%2==0,[i for i in range(9)]))    \n",
    "print(myfilter(lambda x : x%2==0,[]))"
   ]
  },
  {
   "cell_type": "code",
   "execution_count": 3,
   "metadata": {},
   "outputs": [
    {
     "name": "stdout",
     "output_type": "stream",
     "text": [
      "['x', 'xx', 'xxx', 'xxxx', 'y', 'yy', 'yyy', 'yyyy', 'z', 'zz', 'zzz', 'zzzz']\n",
      "['x', 'y', 'z', 'xx', 'yy', 'zz', 'xxx', 'yyy', 'zzz', 'xxxx', 'yyyy', 'zzzz']\n",
      "[[2], [3], [4], [3], [4], [5], [4], [5], [6]]\n",
      "[[2, 3, 4, 5], [3, 4, 5, 6], [4, 5, 6, 7], [5, 6, 7, 8]]\n"
     ]
    }
   ],
   "source": [
    "print(\"{}\\n{}\\n{}\\n{}\".format([i*j for i in ['x','y','z'] for j in range(1,5)],\n",
    "      [j*i for j in range(1,5) for i in ['x','y','z']],\n",
    "      [[i+j] for i in range(2,5) for j in range(3)],\n",
    "      [[i+j for i in range(2,6)] for j in range(4)],\n",
    "      [(i,j) for j in range(1,4) for i in range(1,4)]))"
   ]
  }
 ],
 "metadata": {
  "kernelspec": {
   "display_name": "Python 3",
   "language": "python",
   "name": "python3"
  },
  "language_info": {
   "codemirror_mode": {
    "name": "ipython",
    "version": 3
   },
   "file_extension": ".py",
   "mimetype": "text/x-python",
   "name": "python",
   "nbconvert_exporter": "python",
   "pygments_lexer": "ipython3",
   "version": "3.7.6"
  }
 },
 "nbformat": 4,
 "nbformat_minor": 4
}
